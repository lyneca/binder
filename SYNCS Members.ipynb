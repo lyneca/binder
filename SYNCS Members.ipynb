{
 "cells": [
  {
   "cell_type": "code",
   "execution_count": 1,
   "metadata": {},
   "outputs": [],
   "source": [
    "import getpass\n",
    "import requests\n",
    "import datetime\n",
    "%matplotlib inline"
   ]
  },
  {
   "cell_type": "markdown",
   "metadata": {},
   "source": [
    "## Login"
   ]
  },
  {
   "cell_type": "code",
   "execution_count": 2,
   "metadata": {},
   "outputs": [
    {
     "name": "stdout",
     "output_type": "stream",
     "text": [
      "Username: suits\n",
      "Password: ········\n"
     ]
    }
   ],
   "source": [
    "username = input(\"Username: \")\n",
    "password = getpass.getpass(\"Password: \")"
   ]
  },
  {
   "cell_type": "markdown",
   "metadata": {},
   "source": [
    "## Grab auth headers"
   ]
  },
  {
   "cell_type": "code",
   "execution_count": 3,
   "metadata": {},
   "outputs": [],
   "source": [
    "r = requests.post('https://api.suits.org.au/token', {'user': username, 'pass': password})\n",
    "\n",
    "HEADERS = {'Authorization': 'Bearer ' + r.json()['token']}"
   ]
  },
  {
   "cell_type": "markdown",
   "metadata": {},
   "source": [
    "## Helper functions"
   ]
  },
  {
   "cell_type": "code",
   "execution_count": 4,
   "metadata": {},
   "outputs": [],
   "source": [
    "def get(endpoint, **kwargs):\n",
    "    return requests.get('https://api.suits.org.au' + endpoint, headers=HEADERS, **kwargs).json()\n",
    "\n",
    "def post(endpoint, **kwargs):\n",
    "    return requests.get('https://api.suits.org.au' + endpoint, headers=HEADERS, **kwargs).json()\n",
    "\n",
    "def parsetime(s):\n",
    "    return datetime.datetime.strptime(s, \"%Y-%m-%dT%H:%M:%S.%fZ\")\n",
    "\n",
    "def reptime(d):\n",
    "#     return d.timestamp()\n",
    "    return d.strftime(\"%Y-%m-%d\")\n",
    "\n",
    "def aggregate_count(l, set_list=None):\n",
    "    # this removes duplicates while preserving order\n",
    "    if not set_list:\n",
    "        set_list = list(dict.fromkeys(l))\n",
    "    return [l.count(x) for x in set_list]\n",
    "\n",
    "def date_today():\n",
    "    return datetime.datetime.now().isoformat().split('T')[0]\n",
    "\n",
    "def today_lastyear():\n",
    "    today = datetime.datetime.now()\n",
    "    ly = datetime.datetime(year=today.year - 1, month=today.month, day=today.day)\n",
    "    return ly.isoformat().split('T')[0]\n",
    "\n",
    "def date_part(m):\n",
    "    return m['joinedOn'].split('T')[0]\n",
    "\n",
    "def growth(a, b):\n",
    "    amount = (a/b - 1) * 100\n",
    "    return f\"{round(abs(amount))}% {'larger' if amount > 0 else 'smaller'}\""
   ]
  },
  {
   "cell_type": "markdown",
   "metadata": {},
   "source": [
    "## Get members"
   ]
  },
  {
   "cell_type": "code",
   "execution_count": 5,
   "metadata": {},
   "outputs": [],
   "source": [
    "members = get('/members')"
   ]
  },
  {
   "cell_type": "code",
   "execution_count": 6,
   "metadata": {},
   "outputs": [],
   "source": [
    "def current_members():\n",
    "    return [x for x in members if x['registered']]\n",
    "\n",
    "def this_time_last_year():\n",
    "    return [x for x in members if date_part(x) < today_lastyear()]"
   ]
  },
  {
   "cell_type": "markdown",
   "metadata": {},
   "source": [
    "## Your queries here"
   ]
  },
  {
   "cell_type": "code",
   "execution_count": 7,
   "metadata": {},
   "outputs": [
    {
     "name": "stdout",
     "output_type": "stream",
     "text": [
      "Members this year: 673\n",
      "Members this time last year: 419\n",
      "% growth: 61% larger\n"
     ]
    }
   ],
   "source": [
    "print(\"Members this year:\", len(current_members()))\n",
    "print(\"Members this time last year:\", len(this_time_last_year()))\n",
    "print(\"% growth:\", growth(len(current_members()), len(this_time_last_year())))"
   ]
  }
 ],
 "metadata": {
  "kernelspec": {
   "display_name": "Python 3",
   "language": "python",
   "name": "python3"
  },
  "language_info": {
   "codemirror_mode": {
    "name": "ipython",
    "version": 3
   },
   "file_extension": ".py",
   "mimetype": "text/x-python",
   "name": "python",
   "nbconvert_exporter": "python",
   "pygments_lexer": "ipython3",
   "version": "3.7.2"
  }
 },
 "nbformat": 4,
 "nbformat_minor": 2
}
